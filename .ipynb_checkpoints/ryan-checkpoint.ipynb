{
 "cells": [
  {
   "cell_type": "code",
   "execution_count": 43,
   "metadata": {},
   "outputs": [],
   "source": [
    "import csv\n",
    "import matplotlib.pyplot as plt\n",
    "import random"
   ]
  },
  {
   "cell_type": "code",
   "execution_count": 21,
   "metadata": {},
   "outputs": [],
   "source": [
    "data = []\n",
    "with open('shot_logs.csv', 'r') as csvfile:\n",
    "    reader = csv.reader(csvfile, delimiter=',', quotechar='\"')\n",
    "    for row in reader:\n",
    "        for row in reader:\n",
    "            data.append(row)"
   ]
  },
  {
   "cell_type": "code",
   "execution_count": 35,
   "metadata": {},
   "outputs": [],
   "source": [
    "categories = ['game_id','matchup','location','win/lose','final_margin','shot_number','period','game_clock',\n",
    "             'shot_clock','dribbles','touch_time','shot_dist','pts_type','shot_result','closest_def_name',\n",
    "             'closest_def_id','closest_def_dist','fgm','pts','player_name', 'player_id']\n",
    "\n",
    "shot_dict = {}\n",
    "for i in range(len(data)):\n",
    "    shot_dict[i] = dict(zip(categories, data[i]))"
   ]
  },
  {
   "cell_type": "code",
   "execution_count": 38,
   "metadata": {},
   "outputs": [],
   "source": [
    "labels = [shot_dict[i]['fgm'] for i in range(len(data))]"
   ]
  },
  {
   "cell_type": "code",
   "execution_count": 40,
   "metadata": {},
   "outputs": [],
   "source": [
    "dribbles = [shot_dict[i]['dribbles'] for i in range(len(data))]\n",
    "shot_dist = [shot_dict[i]['shot_dist'] for i in range(len(data))]\n",
    "pts_type = [shot_dict[i]['pts_type'] for i in range(len(data))]\n",
    "shot_clock = [shot_dict[i]['shot_clock'] for i in range(len(data))]"
   ]
  },
  {
   "cell_type": "code",
   "execution_count": 51,
   "metadata": {},
   "outputs": [
    {
     "data": {
      "text/plain": [
       "['3.9', '29.8', '8.0', '6.6', '5.7', '28.9', '20.2', '41.6', '32.0', '5.3']"
      ]
     },
     "execution_count": 51,
     "metadata": {},
     "output_type": "execute_result"
    }
   ],
   "source": [
    "dribbles_zip = list(zip(dribbles,labels))\n",
    "shot_dist_zip = list(zip(shot_dist,labels))\n",
    "pts_type_zip = list(zip(pts_type,labels))\n",
    "shot_clock_zip = list(zip(shot_clock,labels))"
   ]
  },
  {
   "cell_type": "code",
   "execution_count": 49,
   "metadata": {},
   "outputs": [
    {
     "data": {
      "image/png": "[encoded data removed]",
      "text/plain": [
       "<matplotlib.figure.Figure at 0x112d295f8>"
      ]
     },
     "metadata": {},
     "output_type": "display_data"
    }
   ],
   "source": []
  },
  {
   "cell_type": "code",
   "execution_count": null,
   "metadata": {},
   "outputs": [],
   "source": []
  }
 ],
 "metadata": {
  "kernelspec": {
   "display_name": "Python 3",
   "language": "python",
   "name": "python3"
  },
  "language_info": {
   "codemirror_mode": {
    "name": "ipython",
    "version": 3
   },
   "file_extension": ".py",
   "mimetype": "text/x-python",
   "name": "python",
   "nbconvert_exporter": "python",
   "pygments_lexer": "ipython3",
   "version": "3.6.4"
  }
 },
 "nbformat": 4,
 "nbformat_minor": 2
}
